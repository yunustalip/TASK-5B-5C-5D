{
  "nbformat": 4,
  "nbformat_minor": 0,
  "metadata": {
    "colab": {
      "provenance": [],
      "collapsed_sections": []
    },
    "kernelspec": {
      "name": "python3",
      "display_name": "Python 3"
    },
    "language_info": {
      "name": "python"
    }
  },
  "cells": [
    {
      "cell_type": "code",
      "execution_count": null,
      "metadata": {
        "colab": {
          "base_uri": "https://localhost:8080/",
          "height": 683
        },
        "id": "cIjnzjUFDQI-",
        "outputId": "e76cad50-c399-4bce-bdd5-b93f534de550"
      },
      "outputs": [
        {
          "output_type": "stream",
          "name": "stdout",
          "text": [
            "var_smoothing= 1e-0 için score: 0.9044444444444445\n",
            "var_smoothing= 1e-1 için score: 0.9288888888888889\n",
            "var_smoothing= 1e-2 için score: 0.9333333333333333\n",
            "var_smoothing= 1e-3 için score: 0.9155555555555556\n",
            "var_smoothing= 1e-4 için score: 0.8933333333333333\n",
            "var_smoothing= 1e-5 için score: 0.8911111111111111\n",
            "var_smoothing= 1e-6 için score: 0.8777777777777778\n",
            "var_smoothing= 1e-7 için score: 0.8644444444444445\n",
            "var_smoothing= 1e-8 için score: 0.8422222222222222\n",
            "var_smoothing= 1e-9 için score: 0.8333333333333334\n",
            "var_smoothing= 1e-10 için score: 0.8088888888888889\n",
            "var_smoothing= 1e-11 için score: 0.8022222222222222\n",
            "var_smoothing= 1e-12 için score: 0.7822222222222223\n",
            "var_smoothing= 1e-13 için score: 0.7644444444444445\n",
            "var_smoothing= 1e-14 için score: 0.7533333333333333\n",
            "var_smoothing= 1e-15 için score: 0.7466666666666667\n",
            "var_smoothing= 1e-16 için score: 0.7288888888888889\n",
            "var_smoothing= 1e-17 için score: 0.7244444444444444\n",
            "var_smoothing= 1e-18 için score: 0.7177777777777777\n",
            "var_smoothing= 1e-19 için score: 0.7066666666666667\n"
          ]
        },
        {
          "output_type": "display_data",
          "data": {
            "text/plain": [
              "<Figure size 432x288 with 1 Axes>"
            ],
            "image/png": "[encoded data removed]"
          },
          "metadata": {
            "needs_background": "light"
          }
        },
        {
          "output_type": "stream",
          "name": "stdout",
          "text": [
            "Naive Bayes algoritması ile maksimum doğruluk değeri: var_smoothing= 1e-2  değeri ile 0.9333333333333333 olarak elde edilmiştir\n",
            "KNN algoritması ile doğruluk oranı:  0.9866666666666667\n",
            "Random Forest algoritması ile doğruluk oranı:  0.98\n"
          ]
        }
      ],
      "source": [
        "#TASK 5B\n",
        "\"\"\"\n",
        "Gözetimli Öğrenme\n",
        "1) Regresyon örneği\n",
        "Basit doğrusal regresyon örneği olarak elimizde reklama harcanan bütçe ve satış sayısı verileri varken ne kadar reklam bütçesiyle ne kadar sayısı yapılabileceği tahmini\n",
        "\n",
        "2) Sınıflandırma Örneği\n",
        "4 özelliğini(ram,cpu,gpu, hard disk tipi) ve labellerını(günlük kullanım, oyun ve workstation) bildiğimiz bir bilgisayar donanım özellikleri veri setimiz olsun. Bunlara dayanarak bize verilen 4 donanım bilgisinden bilgisayarın günlük kullanım için mi yoksa oyun bilgisayarı mı yada bir workstation mı olduğu tahmini \n",
        "\n",
        "Gözetimsiz Öğrenme\n",
        "1) Kümeleme örneği\n",
        "Bir raftaki ürün sayısını bulmak için fotoğrafı çekilen rafın opencv ile gerekli dezenformasyonlar uygulanarak kümeledikten sonra sayımı \n",
        "\n",
        "2) Boyut azaltma(dimensionality reduction) örneği\n",
        "kanser tespiti için kullanılan 1000 boyutlu bir veri setinden önemli olduğu gözlenen 3 özniteliğe indirgeme örneği verilebilir.\n",
        "\"\"\"\n",
        "\n",
        "#TASK 5C\n",
        "from sklearn.datasets import load_digits\n",
        "digits = load_digits()\n",
        "digits.images.shape\n",
        "import matplotlib.pyplot as plt\n",
        "\n",
        "X = digits.data\n",
        "y = digits.target\n",
        "\n",
        "from sklearn.model_selection import train_test_split\n",
        "Xtrain, Xtest, ytrain, ytest = train_test_split(X, y, random_state=0)\n",
        "\n",
        "from sklearn.naive_bayes import GaussianNB\n",
        "from sklearn.metrics import accuracy_score\n",
        "\n",
        "score = []\n",
        "rank = []\n",
        "plt.figure()\n",
        "for i in range(0,20):\n",
        "    value = '1e-'+str(i)\n",
        "    model = GaussianNB(var_smoothing=float(value))\n",
        "    model.fit(Xtrain, ytrain)\n",
        "    y_model = model.predict(Xtest)\n",
        "    accscore = accuracy_score(ytest, y_model)\n",
        "    score.append(accscore)\n",
        "    rank.append(value)\n",
        "    plt.scatter(value,accscore)\n",
        "    print(\"var_smoothing=\",value,\"için score:\",accscore)\n",
        "plt.plot(rank,score)\n",
        "plt.xticks(rotation=90)\n",
        "plt.show()\n",
        "print(\"Naive Bayes algoritması ile maksimum doğruluk değeri: var_smoothing=\",rank[score.index(max(score))],\" değeri ile\", max(score),\"olarak elde edilmiştir\")\n",
        "\n",
        "# TAKS 5D\n",
        "# 1)\n",
        "from sklearn.neighbors import KNeighborsClassifier\n",
        "neigh = KNeighborsClassifier(n_neighbors=3)\n",
        "neigh.fit(Xtrain, ytrain)\n",
        "y_model = neigh.predict(Xtest)\n",
        "print(\"KNN algoritması ile doğruluk oranı: \", accuracy_score(ytest, y_model))\n",
        "\n",
        "# 2)\n",
        "from sklearn.ensemble import RandomForestClassifier\n",
        "clf = RandomForestClassifier()\n",
        "clf.fit(Xtrain, ytrain)\n",
        "y_model = clf.predict(Xtest)\n",
        "print(\"Random Forest algoritması ile doğruluk oranı: \", accuracy_score(ytest, y_model))"
      ]
    },
    {
      "cell_type": "code",
      "source": [],
      "metadata": {
        "id": "lLM5E9ZmDwH-"
      },
      "execution_count": null,
      "outputs": []
    }
  ]
}